{
 "cells": [
  {
   "cell_type": "code",
   "execution_count": 1,
   "metadata": {},
   "outputs": [],
   "source": [
    "# import project Libraries \n",
    "import warnings\n",
    "warnings.simplefilter(action='ignore', category=FutureWarning)\n",
    "import numpy as np\n",
    "import pandas as pd\n",
    "import matplotlib.pyplot as plt\n",
    "import seaborn as sns\n"
   ]
  },
  {
   "cell_type": "code",
   "execution_count": 2,
   "metadata": {},
   "outputs": [],
   "source": [
    "# Load the data and create pandas DataFrame. \n",
    "df = pd.read_csv('./My_data/Food_enforcement_data.csv',encoding= 'unicode_escape')"
   ]
  },
  {
   "cell_type": "code",
   "execution_count": 3,
   "metadata": {},
   "outputs": [
    {
     "name": "stdout",
     "output_type": "stream",
     "text": [
      "<class 'pandas.core.frame.DataFrame'>\n",
      "RangeIndex: 20677 entries, 0 to 20676\n",
      "Data columns (total 12 columns):\n",
      " #   Column                  Non-Null Count  Dtype \n",
      "---  ------                  --------------  ----- \n",
      " 0   FEI_Number              20677 non-null  object\n",
      " 1   Product ID              20677 non-null  int64 \n",
      " 2   Recalling_Firm          20677 non-null  object\n",
      " 3   Product_Type            20677 non-null  object\n",
      " 4   Status                  20677 non-null  object\n",
      " 5   Recalling_Firm_City     20677 non-null  object\n",
      " 6   Recalling_Firm_State    20677 non-null  object\n",
      " 7   Recalling_Firm_Country  20677 non-null  object\n",
      " 8   Classification_Date     20677 non-null  object\n",
      " 9   Recall_Reason           20677 non-null  object\n",
      " 10  Product_Description     20677 non-null  object\n",
      " 11  Classification          20677 non-null  object\n",
      "dtypes: int64(1), object(11)\n",
      "memory usage: 1.9+ MB\n"
     ]
    }
   ],
   "source": [
    "# Exploring the summary of our DataFrame\n",
    "df.info()"
   ]
  },
  {
   "cell_type": "code",
   "execution_count": 4,
   "metadata": {},
   "outputs": [
    {
     "data": {
      "text/plain": [
       "Index(['FEI_Number', 'Product ID', 'Recalling_Firm', 'Product_Type', 'Status',\n",
       "       'Recalling_Firm_City', 'Recalling_Firm_State', 'Recalling_Firm_Country',\n",
       "       'Classification_Date', 'Recall_Reason', 'Product_Description',\n",
       "       'Classification'],\n",
       "      dtype='object')"
      ]
     },
     "execution_count": 4,
     "metadata": {},
     "output_type": "execute_result"
    }
   ],
   "source": [
    "# get columns names( this works as week refrence once i start dropping columns not needed)\n",
    "df.columns"
   ]
  },
  {
   "cell_type": "code",
   "execution_count": 5,
   "metadata": {},
   "outputs": [
    {
     "data": {
      "text/plain": [
       "FEI_Number                0\n",
       "Product ID                0\n",
       "Recalling_Firm            0\n",
       "Product_Type              0\n",
       "Status                    0\n",
       "Recalling_Firm_City       0\n",
       "Recalling_Firm_State      0\n",
       "Recalling_Firm_Country    0\n",
       "Classification_Date       0\n",
       "Recall_Reason             0\n",
       "Product_Description       0\n",
       "Classification            0\n",
       "dtype: int64"
      ]
     },
     "execution_count": 5,
     "metadata": {},
     "output_type": "execute_result"
    }
   ],
   "source": [
    "# To identify any missing data (null value) and deal with with it. \n",
    "df.isnull().sum()"
   ]
  },
  {
   "cell_type": "code",
   "execution_count": 6,
   "metadata": {},
   "outputs": [],
   "source": [
    "from sklearn.preprocessing import LabelEncoder"
   ]
  },
  {
   "cell_type": "code",
   "execution_count": 7,
   "metadata": {},
   "outputs": [],
   "source": [
    "# LabelEncoder is used when Encoding Categorical features to numerical. \n",
    "label_encode = LabelEncoder()"
   ]
  },
  {
   "cell_type": "code",
   "execution_count": 8,
   "metadata": {},
   "outputs": [],
   "source": [
    "# Label encoding is performed on the target class \"Classification\" because its ordinal in nature\n",
    "df[\"Classification\"] = label_encode.fit_transform(df['Classification'].astype('str'))"
   ]
  },
  {
   "cell_type": "code",
   "execution_count": 9,
   "metadata": {},
   "outputs": [],
   "source": [
    "# Source: https://maxhalford.github.io/blog/target-encoding-done-the-right-way/\n",
    "def calc_smooth_mean(df1, df2, cat_name, target, weight):\n",
    "    # Compute the global mean\n",
    "    mean = df[target].mean()\n",
    "\n",
    "    # Compute the number of values and the mean of each group\n",
    "    agg = df.groupby(cat_name)[target].agg(['count', 'mean'])\n",
    "    counts = agg['count']\n",
    "    means = agg['mean']\n",
    "\n",
    "    # Compute the \"smoothed\" means\n",
    "    smooth = (counts * means + weight * mean) / (counts + weight)\n",
    "\n",
    "    # Replace each value by the according smoothed mean\n",
    "    if df2 is None:\n",
    "        return df1[cat_name].map(smooth)\n",
    "    else:\n",
    "        return df1[cat_name].map(smooth),df2[cat_name].map(smooth.to_dict())\n",
    "\n",
    "\n",
    "WEIGHT = 5\n",
    "df['Recall_Reason'] = calc_smooth_mean(df1=df, df2=None, cat_name='Recall_Reason', target='Classification', weight=WEIGHT)\n",
    "df['Product_Description'] = calc_smooth_mean(df1=df, df2=None, cat_name='Product_Description', target='Classification', weight=WEIGHT)"
   ]
  },
  {
   "cell_type": "code",
   "execution_count": 10,
   "metadata": {},
   "outputs": [],
   "source": [
    "import category_encoders as ce"
   ]
  },
  {
   "cell_type": "code",
   "execution_count": 11,
   "metadata": {},
   "outputs": [],
   "source": [
    "# here we are encoding \"Classification column\" which has ordinal data (ClassI, Class II, Class III)\n",
    "# Using LabelEncoder technique. \n",
    "encode = ce.OneHotEncoder(cols='Classification',handle_unknown='return_nan',return_df=True,use_cat_names=True)\n",
    "data_encoded = encode.fit_transform(df)"
   ]
  },
  {
   "cell_type": "code",
   "execution_count": 12,
   "metadata": {},
   "outputs": [],
   "source": [
    "# Here we are Encoding 'Recalling_Firm_City' Column using binary Encoding technique\n",
    "encode_0 = ce.BinaryEncoder(cols=['Recalling_Firm_City'],return_df=True)\n",
    "data_encoded = encode_0.fit_transform(data_encoded)"
   ]
  },
  {
   "cell_type": "code",
   "execution_count": 13,
   "metadata": {},
   "outputs": [],
   "source": [
    "# encoding column \"status\" using One-Hot-Encode method\n",
    "enoder_1 = ce.OneHotEncoder(cols='Status',handle_unknown='return_nan',return_df=True,use_cat_names=True)"
   ]
  },
  {
   "cell_type": "code",
   "execution_count": 14,
   "metadata": {},
   "outputs": [],
   "source": [
    "# Trnsforming the encoded data. \n",
    "data_encoded = enoder_1.fit_transform(data_encoded)"
   ]
  },
  {
   "cell_type": "code",
   "execution_count": 15,
   "metadata": {},
   "outputs": [],
   "source": [
    "# Here we are Encoding 'Recalling_Firm_Country' Column using binary Encoding technique\n",
    "encoder_2 = ce.BinaryEncoder(cols=['Recalling_Firm_Country'],return_df=True)"
   ]
  },
  {
   "cell_type": "code",
   "execution_count": 16,
   "metadata": {},
   "outputs": [],
   "source": [
    "# Trnsforming the encoded data. \n",
    "data_encoded = encoder_2.fit_transform(data_encoded)"
   ]
  },
  {
   "cell_type": "code",
   "execution_count": 17,
   "metadata": {},
   "outputs": [],
   "source": [
    "# drop unwanted columns \n",
    "data_encoded = data_encoded.drop('Recalling_Firm_State',axis=1)"
   ]
  },
  {
   "cell_type": "code",
   "execution_count": 18,
   "metadata": {},
   "outputs": [],
   "source": [
    "# Dropping all Columns deemed unNecessary for the model performance \n",
    "data_encoded = data_encoded.drop('Product_Type',axis=1)\n",
    "data_encoded = data_encoded.drop('Recalling_Firm',axis=1)\n",
    "data_encoded = data_encoded.drop('Product ID',axis=1)\n",
    "data_encoded = data_encoded.drop('FEI_Number',axis=1)\n",
    "data_encoded = data_encoded.drop('Classification_Date',axis=1)"
   ]
  },
  {
   "cell_type": "code",
   "execution_count": 19,
   "metadata": {},
   "outputs": [],
   "source": [
    "\n",
    "X = data_encoded.iloc[:,:23].values\n",
    "y = data_encoded.iloc[:,23:].values"
   ]
  },
  {
   "cell_type": "code",
   "execution_count": 20,
   "metadata": {},
   "outputs": [],
   "source": [
    "from sklearn.model_selection import train_test_split"
   ]
  },
  {
   "cell_type": "code",
   "execution_count": 21,
   "metadata": {},
   "outputs": [],
   "source": [
    "#Training test split\n",
    "X_train, X_test, y_train, y_test = train_test_split(\n",
    "    X, y, test_size=0.25, random_state=42)"
   ]
  },
  {
   "cell_type": "code",
   "execution_count": 22,
   "metadata": {},
   "outputs": [],
   "source": [
    "from sklearn.preprocessing import MinMaxScaler"
   ]
  },
  {
   "cell_type": "code",
   "execution_count": 23,
   "metadata": {},
   "outputs": [],
   "source": [
    "scaler = MinMaxScaler()"
   ]
  },
  {
   "cell_type": "code",
   "execution_count": 24,
   "metadata": {},
   "outputs": [],
   "source": [
    "# Feature scaling\n",
    "X_train = scaler.fit_transform(X_train)\n",
    "X_test = scaler.transform(X_test)"
   ]
  },
  {
   "cell_type": "code",
   "execution_count": 25,
   "metadata": {},
   "outputs": [],
   "source": [
    "# Import model frameworks and libraries \n",
    "from tensorflow.keras.models import Sequential\n",
    "from tensorflow.keras.layers import Dense, Activation, Dropout\n",
    "from tensorflow.keras.callbacks import EarlyStopping"
   ]
  },
  {
   "cell_type": "code",
   "execution_count": 26,
   "metadata": {},
   "outputs": [],
   "source": [
    "# the model takes in 15507 records with 23 input features \n",
    "model = Sequential()\n",
    "model.add(Dense(24, input_dim=23, activation='relu', # rectified linear activation function is the function of choice \n",
    "                kernel_initializer='random_normal')) #nitializer that generates tensors with a normal distribution.\n",
    "model.add(Dense(12,activation='relu',kernel_initializer='random_normal'))\n",
    "model.add(Dense(6,activation='relu',kernel_initializer='random_normal'))\n",
    "# softmax is the activation of choice for multiclass Classification problems\n",
    "model.add(Dense(3,activation='softmax'))\n",
    "model.compile(loss='categorical_crossentropy', \n",
    "              optimizer='adam',\n",
    "              metrics =['accuracy'])\n",
    "monitor = EarlyStopping(monitor='val_loss', min_delta=1e-3, patience=5, \n",
    "                        verbose=1, mode='auto', restore_best_weights=True)"
   ]
  },
  {
   "cell_type": "code",
   "execution_count": 27,
   "metadata": {},
   "outputs": [
    {
     "name": "stdout",
     "output_type": "stream",
     "text": [
      "Train on 15507 samples, validate on 5170 samples\n",
      "Epoch 1/1000\n",
      "15507/15507 - 2s - loss: 0.7732 - accuracy: 0.6579 - val_loss: 0.3230 - val_accuracy: 0.9313\n",
      "Epoch 2/1000\n",
      "15507/15507 - 1s - loss: 0.2305 - accuracy: 0.9320 - val_loss: 0.1593 - val_accuracy: 0.9381\n",
      "Epoch 3/1000\n",
      "15507/15507 - 1s - loss: 0.1102 - accuracy: 0.9610 - val_loss: 0.0724 - val_accuracy: 0.9733\n",
      "Epoch 4/1000\n",
      "15507/15507 - 1s - loss: 0.0533 - accuracy: 0.9899 - val_loss: 0.0393 - val_accuracy: 0.9973\n",
      "Epoch 5/1000\n",
      "15507/15507 - 1s - loss: 0.0325 - accuracy: 0.9992 - val_loss: 0.0258 - val_accuracy: 0.9990\n",
      "Epoch 6/1000\n",
      "15507/15507 - 1s - loss: 0.0226 - accuracy: 0.9993 - val_loss: 0.0180 - val_accuracy: 0.9996\n",
      "Epoch 7/1000\n",
      "15507/15507 - 1s - loss: 0.0163 - accuracy: 0.9994 - val_loss: 0.0130 - val_accuracy: 0.9996\n",
      "Epoch 8/1000\n",
      "15507/15507 - 1s - loss: 0.0120 - accuracy: 0.9996 - val_loss: 0.0096 - val_accuracy: 0.9998\n",
      "Epoch 9/1000\n",
      "15507/15507 - 1s - loss: 0.0091 - accuracy: 0.9997 - val_loss: 0.0074 - val_accuracy: 0.9998\n",
      "Epoch 10/1000\n",
      "15507/15507 - 1s - loss: 0.0072 - accuracy: 0.9997 - val_loss: 0.0058 - val_accuracy: 0.9998\n",
      "Epoch 11/1000\n",
      "15507/15507 - 1s - loss: 0.0058 - accuracy: 0.9997 - val_loss: 0.0043 - val_accuracy: 0.9998\n",
      "Epoch 12/1000\n",
      "15507/15507 - 1s - loss: 0.0043 - accuracy: 0.9999 - val_loss: 0.0033 - val_accuracy: 1.0000\n",
      "Epoch 13/1000\n",
      "15507/15507 - 1s - loss: 0.0034 - accuracy: 0.9998 - val_loss: 0.0025 - val_accuracy: 1.0000\n",
      "Epoch 14/1000\n",
      "15507/15507 - 1s - loss: 0.0031 - accuracy: 0.9998 - val_loss: 0.0020 - val_accuracy: 1.0000\n",
      "Epoch 15/1000\n",
      "15507/15507 - 1s - loss: 0.0022 - accuracy: 0.9999 - val_loss: 0.0018 - val_accuracy: 1.0000\n",
      "Epoch 16/1000\n",
      "15507/15507 - 1s - loss: 0.0017 - accuracy: 0.9999 - val_loss: 0.0013 - val_accuracy: 1.0000\n",
      "Epoch 17/1000\n",
      "15507/15507 - 1s - loss: 0.0014 - accuracy: 0.9999 - val_loss: 0.0010 - val_accuracy: 1.0000\n",
      "Epoch 18/1000\n",
      "15507/15507 - 1s - loss: 0.0012 - accuracy: 0.9999 - val_loss: 8.7224e-04 - val_accuracy: 1.0000\n",
      "Epoch 19/1000\n",
      "15507/15507 - 1s - loss: 0.0011 - accuracy: 0.9999 - val_loss: 7.6955e-04 - val_accuracy: 1.0000\n",
      "Epoch 20/1000\n",
      "15507/15507 - 1s - loss: 9.4874e-04 - accuracy: 0.9999 - val_loss: 5.7037e-04 - val_accuracy: 1.0000\n",
      "Epoch 21/1000\n",
      "Restoring model weights from the end of the best epoch.\n",
      "15507/15507 - 1s - loss: 8.5084e-04 - accuracy: 0.9999 - val_loss: 4.6906e-04 - val_accuracy: 1.0000\n",
      "Epoch 00021: early stopping\n"
     ]
    },
    {
     "data": {
      "text/plain": [
       "<tensorflow.python.keras.callbacks.History at 0x1a47c4d510>"
      ]
     },
     "execution_count": 27,
     "metadata": {},
     "output_type": "execute_result"
    }
   ],
   "source": [
    "# model fiting \n",
    "# when trining the model, i have introduced Keras callbacks functions i.e early stopping to prevent overfitting \n",
    "model.fit(X_train,y_train,validation_data=(X_test,y_test),callbacks=[monitor],verbose=2,epochs=1000)"
   ]
  },
  {
   "cell_type": "code",
   "execution_count": 28,
   "metadata": {},
   "outputs": [
    {
     "data": {
      "text/html": [
       "<div>\n",
       "<style scoped>\n",
       "    .dataframe tbody tr th:only-of-type {\n",
       "        vertical-align: middle;\n",
       "    }\n",
       "\n",
       "    .dataframe tbody tr th {\n",
       "        vertical-align: top;\n",
       "    }\n",
       "\n",
       "    .dataframe thead th {\n",
       "        text-align: right;\n",
       "    }\n",
       "</style>\n",
       "<table border=\"1\" class=\"dataframe\">\n",
       "  <thead>\n",
       "    <tr style=\"text-align: right;\">\n",
       "      <th></th>\n",
       "      <th>loss</th>\n",
       "      <th>accuracy</th>\n",
       "      <th>val_loss</th>\n",
       "      <th>val_accuracy</th>\n",
       "    </tr>\n",
       "  </thead>\n",
       "  <tbody>\n",
       "    <tr>\n",
       "      <th>0</th>\n",
       "      <td>0.773185</td>\n",
       "      <td>0.657896</td>\n",
       "      <td>0.323000</td>\n",
       "      <td>0.931335</td>\n",
       "    </tr>\n",
       "    <tr>\n",
       "      <th>1</th>\n",
       "      <td>0.230542</td>\n",
       "      <td>0.931966</td>\n",
       "      <td>0.159310</td>\n",
       "      <td>0.938104</td>\n",
       "    </tr>\n",
       "    <tr>\n",
       "      <th>2</th>\n",
       "      <td>0.110225</td>\n",
       "      <td>0.960985</td>\n",
       "      <td>0.072380</td>\n",
       "      <td>0.973308</td>\n",
       "    </tr>\n",
       "    <tr>\n",
       "      <th>3</th>\n",
       "      <td>0.053283</td>\n",
       "      <td>0.989940</td>\n",
       "      <td>0.039281</td>\n",
       "      <td>0.997292</td>\n",
       "    </tr>\n",
       "    <tr>\n",
       "      <th>4</th>\n",
       "      <td>0.032454</td>\n",
       "      <td>0.999226</td>\n",
       "      <td>0.025803</td>\n",
       "      <td>0.999033</td>\n",
       "    </tr>\n",
       "    <tr>\n",
       "      <th>5</th>\n",
       "      <td>0.022577</td>\n",
       "      <td>0.999291</td>\n",
       "      <td>0.017980</td>\n",
       "      <td>0.999613</td>\n",
       "    </tr>\n",
       "    <tr>\n",
       "      <th>6</th>\n",
       "      <td>0.016344</td>\n",
       "      <td>0.999355</td>\n",
       "      <td>0.013012</td>\n",
       "      <td>0.999613</td>\n",
       "    </tr>\n",
       "    <tr>\n",
       "      <th>7</th>\n",
       "      <td>0.012012</td>\n",
       "      <td>0.999613</td>\n",
       "      <td>0.009615</td>\n",
       "      <td>0.999807</td>\n",
       "    </tr>\n",
       "    <tr>\n",
       "      <th>8</th>\n",
       "      <td>0.009081</td>\n",
       "      <td>0.999678</td>\n",
       "      <td>0.007397</td>\n",
       "      <td>0.999807</td>\n",
       "    </tr>\n",
       "    <tr>\n",
       "      <th>9</th>\n",
       "      <td>0.007208</td>\n",
       "      <td>0.999678</td>\n",
       "      <td>0.005807</td>\n",
       "      <td>0.999807</td>\n",
       "    </tr>\n",
       "    <tr>\n",
       "      <th>10</th>\n",
       "      <td>0.005788</td>\n",
       "      <td>0.999742</td>\n",
       "      <td>0.004257</td>\n",
       "      <td>0.999807</td>\n",
       "    </tr>\n",
       "    <tr>\n",
       "      <th>11</th>\n",
       "      <td>0.004262</td>\n",
       "      <td>0.999871</td>\n",
       "      <td>0.003288</td>\n",
       "      <td>1.000000</td>\n",
       "    </tr>\n",
       "    <tr>\n",
       "      <th>12</th>\n",
       "      <td>0.003442</td>\n",
       "      <td>0.999807</td>\n",
       "      <td>0.002520</td>\n",
       "      <td>1.000000</td>\n",
       "    </tr>\n",
       "    <tr>\n",
       "      <th>13</th>\n",
       "      <td>0.003076</td>\n",
       "      <td>0.999807</td>\n",
       "      <td>0.002033</td>\n",
       "      <td>1.000000</td>\n",
       "    </tr>\n",
       "    <tr>\n",
       "      <th>14</th>\n",
       "      <td>0.002164</td>\n",
       "      <td>0.999936</td>\n",
       "      <td>0.001829</td>\n",
       "      <td>1.000000</td>\n",
       "    </tr>\n",
       "    <tr>\n",
       "      <th>15</th>\n",
       "      <td>0.001708</td>\n",
       "      <td>0.999936</td>\n",
       "      <td>0.001313</td>\n",
       "      <td>1.000000</td>\n",
       "    </tr>\n",
       "    <tr>\n",
       "      <th>16</th>\n",
       "      <td>0.001436</td>\n",
       "      <td>0.999936</td>\n",
       "      <td>0.001034</td>\n",
       "      <td>1.000000</td>\n",
       "    </tr>\n",
       "    <tr>\n",
       "      <th>17</th>\n",
       "      <td>0.001232</td>\n",
       "      <td>0.999936</td>\n",
       "      <td>0.000872</td>\n",
       "      <td>1.000000</td>\n",
       "    </tr>\n",
       "    <tr>\n",
       "      <th>18</th>\n",
       "      <td>0.001065</td>\n",
       "      <td>0.999936</td>\n",
       "      <td>0.000770</td>\n",
       "      <td>1.000000</td>\n",
       "    </tr>\n",
       "    <tr>\n",
       "      <th>19</th>\n",
       "      <td>0.000949</td>\n",
       "      <td>0.999936</td>\n",
       "      <td>0.000570</td>\n",
       "      <td>1.000000</td>\n",
       "    </tr>\n",
       "    <tr>\n",
       "      <th>20</th>\n",
       "      <td>0.000851</td>\n",
       "      <td>0.999936</td>\n",
       "      <td>0.000469</td>\n",
       "      <td>1.000000</td>\n",
       "    </tr>\n",
       "  </tbody>\n",
       "</table>\n",
       "</div>"
      ],
      "text/plain": [
       "        loss  accuracy  val_loss  val_accuracy\n",
       "0   0.773185  0.657896  0.323000      0.931335\n",
       "1   0.230542  0.931966  0.159310      0.938104\n",
       "2   0.110225  0.960985  0.072380      0.973308\n",
       "3   0.053283  0.989940  0.039281      0.997292\n",
       "4   0.032454  0.999226  0.025803      0.999033\n",
       "5   0.022577  0.999291  0.017980      0.999613\n",
       "6   0.016344  0.999355  0.013012      0.999613\n",
       "7   0.012012  0.999613  0.009615      0.999807\n",
       "8   0.009081  0.999678  0.007397      0.999807\n",
       "9   0.007208  0.999678  0.005807      0.999807\n",
       "10  0.005788  0.999742  0.004257      0.999807\n",
       "11  0.004262  0.999871  0.003288      1.000000\n",
       "12  0.003442  0.999807  0.002520      1.000000\n",
       "13  0.003076  0.999807  0.002033      1.000000\n",
       "14  0.002164  0.999936  0.001829      1.000000\n",
       "15  0.001708  0.999936  0.001313      1.000000\n",
       "16  0.001436  0.999936  0.001034      1.000000\n",
       "17  0.001232  0.999936  0.000872      1.000000\n",
       "18  0.001065  0.999936  0.000770      1.000000\n",
       "19  0.000949  0.999936  0.000570      1.000000\n",
       "20  0.000851  0.999936  0.000469      1.000000"
      ]
     },
     "execution_count": 28,
     "metadata": {},
     "output_type": "execute_result"
    }
   ],
   "source": [
    "#create a data frame of model metrics i.e losses and accuracy \n",
    "df_loss = pd.DataFrame(model.history.history)\n",
    "df_loss"
   ]
  },
  {
   "cell_type": "code",
   "execution_count": 29,
   "metadata": {},
   "outputs": [
    {
     "data": {
      "text/plain": [
       "<AxesSubplot:>"
      ]
     },
     "execution_count": 29,
     "metadata": {},
     "output_type": "execute_result"
    },
    {
     "data": {
      "image/png": "[encoded data removed]",
      "text/plain": [
       "<Figure size 432x288 with 1 Axes>"
      ]
     },
     "metadata": {
      "needs_background": "light"
     },
     "output_type": "display_data"
    }
   ],
   "source": [
    "# ploting loss against validation loss and accuracy vas validation accuracy\n",
    "df_loss.plot()"
   ]
  },
  {
   "cell_type": "code",
   "execution_count": 30,
   "metadata": {},
   "outputs": [],
   "source": [
    "# predict unseen test data\n",
    "pred = model.predict(X_test)\n",
    "pred = np.argmax(pred,axis=1)"
   ]
  },
  {
   "cell_type": "code",
   "execution_count": 31,
   "metadata": {},
   "outputs": [
    {
     "name": "stdout",
     "output_type": "stream",
     "text": [
      "Accuracy score: 1.0\n"
     ]
    }
   ],
   "source": [
    "from sklearn import metrics\n",
    "\n",
    "y_compare = np.argmax(y_test,axis=1) \n",
    "score = metrics.accuracy_score(y_compare, pred)\n",
    "print(\"Accuracy score: {}\".format(score))"
   ]
  },
  {
   "cell_type": "code",
   "execution_count": 32,
   "metadata": {},
   "outputs": [],
   "source": [
    "# define a confusion matrix\n",
    "def plot_confusion_matrix(cm, names, title='Confusion matrix', \n",
    "                            cmap=plt.cm.Blues):\n",
    "    plt.imshow(cm, interpolation='nearest', cmap=cmap)\n",
    "    plt.title(title)\n",
    "    plt.colorbar()\n",
    "    tick_marks = np.arange(len(names))\n",
    "    plt.xticks(tick_marks, names, rotation=45)\n",
    "    plt.yticks(tick_marks, names)\n",
    "    plt.tight_layout()\n",
    "    plt.ylabel('True label')\n",
    "    plt.xlabel('Predicted label')\n"
   ]
  },
  {
   "cell_type": "code",
   "execution_count": 33,
   "metadata": {},
   "outputs": [
    {
     "name": "stdout",
     "output_type": "stream",
     "text": [
      "Confusion matrix, without normalization\n",
      "[[2168    0    0]\n",
      " [   0 2715    0]\n",
      " [   0    0  287]]\n",
      "Normalized confusion matrix\n",
      "[[1. 0. 0.]\n",
      " [0. 1. 0.]\n",
      " [0. 0. 1.]]\n"
     ]
    },
    {
     "data": {
      "image/png": "[encoded data removed]",
      "text/plain": [
       "<Figure size 432x288 with 2 Axes>"
      ]
     },
     "metadata": {
      "needs_background": "light"
     },
     "output_type": "display_data"
    },
    {
     "data": {
      "image/png": "[encoded data removed]",
      "text/plain": [
       "<Figure size 432x288 with 2 Axes>"
      ]
     },
     "metadata": {
      "needs_background": "light"
     },
     "output_type": "display_data"
    }
   ],
   "source": [
    "from sklearn import svm, datasets\n",
    "from sklearn.model_selection import train_test_split\n",
    "from sklearn.metrics import confusion_matrix\n",
    "\n",
    "# Compute confusion matrix\n",
    "My_products = pd.DataFrame(data_encoded.iloc[:,23:])\n",
    "products = My_products.columns\n",
    "cm = confusion_matrix(y_compare, pred)\n",
    "np.set_printoptions(precision=2)\n",
    "print('Confusion matrix, without normalization')\n",
    "print(cm)\n",
    "plt.figure()\n",
    "plot_confusion_matrix(cm, products)\n",
    "\n",
    "# Normalize the confusion matrix by row (i.e by the number of samples\n",
    "# in each class)\n",
    "cm_normalized = cm.astype('float') / cm.sum(axis=1)[:, np.newaxis]\n",
    "print('Normalized confusion matrix')\n",
    "print(cm_normalized)\n",
    "plt.figure()\n",
    "plot_confusion_matrix(cm_normalized, products, \n",
    "        title='Normalized confusion matrix')\n",
    "\n",
    "plt.show()"
   ]
  },
  {
   "cell_type": "code",
   "execution_count": 34,
   "metadata": {},
   "outputs": [
    {
     "data": {
      "text/plain": [
       "array([1, 1, 1, 1, 0, 1, 1, 1, 0, 1, 1, 0, 1, 0, 0, 1, 0, 0, 0, 1, 1, 0,\n",
       "       2, 1, 0, 1, 0, 0, 0, 0])"
      ]
     },
     "execution_count": 34,
     "metadata": {},
     "output_type": "execute_result"
    }
   ],
   "source": [
    "pred[:30]"
   ]
  },
  {
   "cell_type": "code",
   "execution_count": 35,
   "metadata": {},
   "outputs": [
    {
     "data": {
      "text/plain": [
       "[0.0013125953449909548, 1.0]"
      ]
     },
     "execution_count": 35,
     "metadata": {},
     "output_type": "execute_result"
    }
   ],
   "source": [
    "# Evaluate the model performance \n",
    "model.evaluate(X_test,y_test,verbose=0)"
   ]
  },
  {
   "cell_type": "code",
   "execution_count": 36,
   "metadata": {},
   "outputs": [],
   "source": [
    "epochs = len(df_loss)"
   ]
  },
  {
   "cell_type": "code",
   "execution_count": 37,
   "metadata": {},
   "outputs": [],
   "source": [
    "# here we will scale the whole dataset without spliting \n",
    "scaled_X = scaler.fit_transform(X)"
   ]
  },
  {
   "cell_type": "code",
   "execution_count": 38,
   "metadata": {},
   "outputs": [],
   "source": [
    "# Second model but this time with all the 20677 dataset record (no splitting)\n",
    "model = Sequential()\n",
    "model.add(Dense(X.shape[1],input_dim=23, activation='relu',\n",
    "                kernel_initializer='random_normal'))\n",
    "model.add(Dense(12,activation='relu',kernel_initializer='random_normal'))\n",
    "model.add(Dense(6,activation='relu',kernel_initializer='random_normal'))\n",
    "model.add(Dense(3,activation='softmax'))\n",
    "model.compile(loss='categorical_crossentropy', \n",
    "              optimizer='adam',\n",
    "              metrics =['accuracy'])\n",
    "monitor = EarlyStopping(monitor='val_loss', min_delta=1e-3, patience=5, \n",
    "                        verbose=1, mode='auto', restore_best_weights=True)"
   ]
  },
  {
   "cell_type": "code",
   "execution_count": 39,
   "metadata": {},
   "outputs": [
    {
     "name": "stdout",
     "output_type": "stream",
     "text": [
      "Train on 20677 samples, validate on 5170 samples\n",
      "Epoch 1/500\n",
      "20677/20677 - 2s - loss: 0.8724 - accuracy: 0.5154 - val_loss: 0.8197 - val_accuracy: 0.5251\n",
      "Epoch 2/500\n",
      "20677/20677 - 1s - loss: 0.3644 - accuracy: 0.8624 - val_loss: 0.1008 - val_accuracy: 0.9375\n",
      "Epoch 3/500\n",
      "20677/20677 - 1s - loss: 0.0682 - accuracy: 0.9700 - val_loss: 0.0462 - val_accuracy: 0.9990\n",
      "Epoch 4/500\n",
      "20677/20677 - 1s - loss: 0.0329 - accuracy: 0.9989 - val_loss: 0.0146 - val_accuracy: 0.9998\n",
      "Epoch 5/500\n",
      "20677/20677 - 1s - loss: 0.0059 - accuracy: 0.9998 - val_loss: 0.0027 - val_accuracy: 1.0000\n",
      "Epoch 6/500\n",
      "20677/20677 - 1s - loss: 0.0016 - accuracy: 0.9999 - val_loss: 6.3667e-04 - val_accuracy: 1.0000\n",
      "Epoch 7/500\n",
      "20677/20677 - 1s - loss: 9.8296e-04 - accuracy: 1.0000 - val_loss: 3.3676e-04 - val_accuracy: 1.0000\n",
      "Epoch 8/500\n",
      "20677/20677 - 1s - loss: 7.0066e-04 - accuracy: 0.9999 - val_loss: 1.8019e-04 - val_accuracy: 1.0000\n",
      "Epoch 9/500\n",
      "20677/20677 - 1s - loss: 5.9281e-04 - accuracy: 1.0000 - val_loss: 1.3180e-04 - val_accuracy: 1.0000\n",
      "Epoch 10/500\n",
      "20677/20677 - 1s - loss: 5.7430e-04 - accuracy: 0.9999 - val_loss: 9.3424e-05 - val_accuracy: 1.0000\n",
      "Epoch 11/500\n",
      "Restoring model weights from the end of the best epoch.\n",
      "20677/20677 - 1s - loss: 5.1592e-04 - accuracy: 1.0000 - val_loss: 7.0276e-04 - val_accuracy: 1.0000\n",
      "Epoch 00011: early stopping\n"
     ]
    },
    {
     "data": {
      "text/plain": [
       "<tensorflow.python.keras.callbacks.History at 0x1a4bb0e4d0>"
      ]
     },
     "execution_count": 39,
     "metadata": {},
     "output_type": "execute_result"
    }
   ],
   "source": [
    "model.fit(scaled_X,y,validation_data=(X_test,y_test),callbacks=[monitor],verbose=2,epochs=500)"
   ]
  },
  {
   "cell_type": "code",
   "execution_count": 40,
   "metadata": {},
   "outputs": [],
   "source": [
    "from tensorflow.keras.models import load_model"
   ]
  },
  {
   "cell_type": "code",
   "execution_count": 41,
   "metadata": {},
   "outputs": [],
   "source": [
    "# Saving the model\n",
    "model.save('Food_racall_draft.h5')"
   ]
  },
  {
   "cell_type": "code",
   "execution_count": 42,
   "metadata": {},
   "outputs": [],
   "source": [
    "predictions = model.predict(X)"
   ]
  },
  {
   "cell_type": "code",
   "execution_count": 43,
   "metadata": {},
   "outputs": [],
   "source": [
    "predictions = np.argmax(predictions,axis=1)"
   ]
  },
  {
   "cell_type": "code",
   "execution_count": 44,
   "metadata": {},
   "outputs": [],
   "source": [
    "import joblib"
   ]
  },
  {
   "cell_type": "code",
   "execution_count": 45,
   "metadata": {},
   "outputs": [
    {
     "data": {
      "text/plain": [
       "['food_recall_scaler.pki']"
      ]
     },
     "execution_count": 45,
     "metadata": {},
     "output_type": "execute_result"
    }
   ],
   "source": [
    "# Save the scaler\n",
    "joblib.dump(scaler, 'food_recall_scaler.pki')"
   ]
  },
  {
   "cell_type": "code",
   "execution_count": 46,
   "metadata": {},
   "outputs": [],
   "source": [
    "# this list will hold all products classified as class I or II \n",
    "Class_I_and_II_products = []"
   ]
  },
  {
   "cell_type": "code",
   "execution_count": 47,
   "metadata": {},
   "outputs": [],
   "source": [
    "# In this prediction model the predicted items are at the same index as they were in the original dataframe\n",
    "# for example if product id 184301 was at position 44 in the original dataframe i.e df then it will be at the same\n",
    "# index position 44 in the predictions\n",
    "\n",
    "for index in range(df.shape[0]):\n",
    "    if predictions[index] ==0 | predictions[index] ==1:\n",
    "        Class_I_and_II_products.append(df.loc[index,['Product ID']][0]) # get the preduct id if it's class I or II"
   ]
  },
  {
   "cell_type": "code",
   "execution_count": 48,
   "metadata": {},
   "outputs": [
    {
     "data": {
      "text/plain": [
       "[184301,\n",
       " 184193,\n",
       " 184392,\n",
       " 184262,\n",
       " 184323,\n",
       " 183709,\n",
       " 184228,\n",
       " 184272,\n",
       " 184037,\n",
       " 184181,\n",
       " 184182,\n",
       " 184183,\n",
       " 184184,\n",
       " 184185,\n",
       " 184186,\n",
       " 184187,\n",
       " 184188,\n",
       " 184189,\n",
       " 184191,\n",
       " 184192]"
      ]
     },
     "execution_count": 48,
     "metadata": {},
     "output_type": "execute_result"
    }
   ],
   "source": [
    "# A list of product classified as class I and II with potentital to be withdrawn. \n",
    "Class_I_and_II_products[:20]"
   ]
  },
  {
   "cell_type": "code",
   "execution_count": 49,
   "metadata": {},
   "outputs": [],
   "source": [
    "# Determine which countries whose recalled products are classified as Class I or II \n",
    "violating_Countries = [df.loc[index,['Recalling_Firm_Country']][0] for index in range(df.shape[0]) if predictions[index] ==0 |predictions[index] ==1]"
   ]
  },
  {
   "cell_type": "code",
   "execution_count": 50,
   "metadata": {},
   "outputs": [],
   "source": [
    "def High_Violating_countries(Country_list):\n",
    "    \n",
    "    country_dictionary = {} \n",
    "    for country in Country_list:\n",
    "        if country not in country_dictionary:\n",
    "            country_dictionary[country] = violating_Countries.count(country)\n",
    "    sorted(country_dictionary.items(), key=lambda x: x[1], reverse=True)\n",
    "    return country_dictionary\n",
    "    "
   ]
  },
  {
   "cell_type": "code",
   "execution_count": 51,
   "metadata": {},
   "outputs": [],
   "source": [
    "high_riask_countries = High_Violating_countries(violating_Countries)"
   ]
  },
  {
   "cell_type": "code",
   "execution_count": 52,
   "metadata": {},
   "outputs": [
    {
     "name": "stdout",
     "output_type": "stream",
     "text": [
      "United States has  8508 food products in Violation \n",
      "    Canada has    53 food products in Violation \n",
      "    France has     5 food products in Violation \n",
      "     Chile has     6 food products in Violation \n",
      "    Mexico has     6 food products in Violation \n"
     ]
    }
   ],
   "source": [
    "# return countries that appears at least five times in the violation list.\n",
    "for key, value in high_riask_countries.items():\n",
    "    if value >= 5:\n",
    "        print(\"{:>10} has {:>5} food products in Violation \".format(key, value))"
   ]
  }
 ],
 "metadata": {
  "kernelspec": {
   "display_name": "Python 3.7 (tensorflow)",
   "language": "python",
   "name": "tensorflow"
  },
  "language_info": {
   "codemirror_mode": {
    "name": "ipython",
    "version": 3
   },
   "file_extension": ".py",
   "mimetype": "text/x-python",
   "name": "python",
   "nbconvert_exporter": "python",
   "pygments_lexer": "ipython3",
   "version": "3.7.9"
  }
 },
 "nbformat": 4,
 "nbformat_minor": 4
}
