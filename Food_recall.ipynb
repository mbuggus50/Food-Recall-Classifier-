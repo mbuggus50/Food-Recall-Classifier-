{
 "cells": [
  {
   "cell_type": "code",
   "execution_count": 243,
   "metadata": {},
   "outputs": [],
   "source": [
    "# import project Libraries \n",
    "import warnings\n",
    "warnings.simplefilter(action='ignore', category=FutureWarning)\n",
    "import numpy as np\n",
    "import pandas as pd\n",
    "import matplotlib.pyplot as plt\n",
    "import seaborn as sns\n"
   ]
  },
  {
   "cell_type": "code",
   "execution_count": 244,
   "metadata": {},
   "outputs": [],
   "source": [
    "# Load the data and create pandas DataFrame. \n",
    "df = pd.read_csv('./My_data/Food_enforcement_data.csv',encoding= 'unicode_escape')"
   ]
  },
  {
   "cell_type": "code",
   "execution_count": 245,
   "metadata": {},
   "outputs": [
    {
     "name": "stdout",
     "output_type": "stream",
     "text": [
      "<class 'pandas.core.frame.DataFrame'>\n",
      "RangeIndex: 20677 entries, 0 to 20676\n",
      "Data columns (total 12 columns):\n",
      " #   Column                  Non-Null Count  Dtype \n",
      "---  ------                  --------------  ----- \n",
      " 0   FEI_Number              20677 non-null  object\n",
      " 1   Product ID              20677 non-null  int64 \n",
      " 2   Recalling_Firm          20677 non-null  object\n",
      " 3   Product_Type            20677 non-null  object\n",
      " 4   Status                  20677 non-null  object\n",
      " 5   Recalling_Firm_City     20677 non-null  object\n",
      " 6   Recalling_Firm_State    20677 non-null  object\n",
      " 7   Recalling_Firm_Country  20677 non-null  object\n",
      " 8   Classification_Date     20677 non-null  object\n",
      " 9   Recall_Reason           20677 non-null  object\n",
      " 10  Product_Description     20677 non-null  object\n",
      " 11  Classification          20677 non-null  object\n",
      "dtypes: int64(1), object(11)\n",
      "memory usage: 1.9+ MB\n"
     ]
    }
   ],
   "source": [
    "# Exploring the summary of our DataFrame\n",
    "df.info()"
   ]
  },
  {
   "cell_type": "code",
   "execution_count": 246,
   "metadata": {},
   "outputs": [
    {
     "data": {
      "text/plain": [
       "Index(['FEI_Number', 'Product ID', 'Recalling_Firm', 'Product_Type', 'Status',\n",
       "       'Recalling_Firm_City', 'Recalling_Firm_State', 'Recalling_Firm_Country',\n",
       "       'Classification_Date', 'Recall_Reason', 'Product_Description',\n",
       "       'Classification'],\n",
       "      dtype='object')"
      ]
     },
     "execution_count": 246,
     "metadata": {},
     "output_type": "execute_result"
    }
   ],
   "source": [
    "# get columns names( this works as week refrence once i start dropping columns not needed)\n",
    "df.columns"
   ]
  },
  {
   "cell_type": "code",
   "execution_count": 247,
   "metadata": {},
   "outputs": [
    {
     "data": {
      "text/plain": [
       "FEI_Number                0\n",
       "Product ID                0\n",
       "Recalling_Firm            0\n",
       "Product_Type              0\n",
       "Status                    0\n",
       "Recalling_Firm_City       0\n",
       "Recalling_Firm_State      0\n",
       "Recalling_Firm_Country    0\n",
       "Classification_Date       0\n",
       "Recall_Reason             0\n",
       "Product_Description       0\n",
       "Classification            0\n",
       "dtype: int64"
      ]
     },
     "execution_count": 247,
     "metadata": {},
     "output_type": "execute_result"
    }
   ],
   "source": [
    "# To identify any missing data (null value) and deal with with it. \n",
    "df.isnull().sum()"
   ]
  },
  {
   "cell_type": "code",
   "execution_count": 248,
   "metadata": {},
   "outputs": [],
   "source": [
    "from sklearn.preprocessing import LabelEncoder\n",
    "\n"
   ]
  },
  {
   "cell_type": "code",
   "execution_count": 249,
   "metadata": {},
   "outputs": [],
   "source": [
    "# LabelEncoder is used when Encoding Categorical features to numerical. \n",
    "label_encode = LabelEncoder()"
   ]
  },
  {
   "cell_type": "code",
   "execution_count": 250,
   "metadata": {},
   "outputs": [],
   "source": [
    "df[\"Classification\"] = label_encode.fit_transform(df['Classification'].astype('str'))"
   ]
  },
  {
   "cell_type": "code",
   "execution_count": 251,
   "metadata": {},
   "outputs": [],
   "source": [
    "# Source: https://maxhalford.github.io/blog/target-encoding-done-the-right-way/\n",
    "def calc_smooth_mean(df1, df2, cat_name, target, weight):\n",
    "    # Compute the global mean\n",
    "    mean = df[target].mean()\n",
    "\n",
    "    # Compute the number of values and the mean of each group\n",
    "    agg = df.groupby(cat_name)[target].agg(['count', 'mean'])\n",
    "    counts = agg['count']\n",
    "    means = agg['mean']\n",
    "\n",
    "    # Compute the \"smoothed\" means\n",
    "    smooth = (counts * means + weight * mean) / (counts + weight)\n",
    "\n",
    "    # Replace each value by the according smoothed mean\n",
    "    if df2 is None:\n",
    "        return df1[cat_name].map(smooth)\n",
    "    else:\n",
    "        return df1[cat_name].map(smooth),df2[cat_name].map(smooth.to_dict())\n",
    "\n",
    "\n",
    "WEIGHT = 5\n",
    "df['Recall_Reason'] = calc_smooth_mean(df1=df, df2=None, cat_name='Recall_Reason', target='Classification', weight=WEIGHT)\n",
    "df['Product_Description'] = calc_smooth_mean(df1=df, df2=None, cat_name='Product_Description', target='Classification', weight=WEIGHT)"
   ]
  },
  {
   "cell_type": "code",
   "execution_count": 252,
   "metadata": {},
   "outputs": [],
   "source": [
    "import category_encoders as ce"
   ]
  },
  {
   "cell_type": "code",
   "execution_count": 253,
   "metadata": {},
   "outputs": [],
   "source": [
    "# here we are encoding \"Classification column\" which has ordinal data (ClassI, Class II, Class III)\n",
    "# Using LabelEncoder technique. \n",
    "encode = ce.OneHotEncoder(cols='Classification',handle_unknown='return_nan',return_df=True,use_cat_names=True)\n",
    "data_encoded = encode.fit_transform(df)"
   ]
  },
  {
   "cell_type": "code",
   "execution_count": 254,
   "metadata": {},
   "outputs": [],
   "source": [
    "# Here we are Encoding 'Recalling_Firm_City' Column using binary Encoding technique\n",
    "encode_0 = ce.BinaryEncoder(cols=['Recalling_Firm_City'],return_df=True)\n",
    "data_encoded = encode_0.fit_transform(data_encoded)"
   ]
  },
  {
   "cell_type": "code",
   "execution_count": 255,
   "metadata": {},
   "outputs": [],
   "source": [
    "# encoding column \"status\" using One-Hot-Encode method\n",
    "enoder_1 = ce.OneHotEncoder(cols='Status',handle_unknown='return_nan',return_df=True,use_cat_names=True)"
   ]
  },
  {
   "cell_type": "code",
   "execution_count": 256,
   "metadata": {},
   "outputs": [],
   "source": [
    "# Trnsforming the encoded data. \n",
    "data_encoded = enoder_1.fit_transform(data_encoded)"
   ]
  },
  {
   "cell_type": "code",
   "execution_count": 257,
   "metadata": {},
   "outputs": [],
   "source": [
    "# Here we are Encoding 'Recalling_Firm_Country' Column using binary Encoding technique\n",
    "encoder_2 = ce.BinaryEncoder(cols=['Recalling_Firm_Country'],return_df=True)"
   ]
  },
  {
   "cell_type": "code",
   "execution_count": 258,
   "metadata": {},
   "outputs": [],
   "source": [
    "# Trnsforming the encoded data. \n",
    "data_encoded = encoder_2.fit_transform(data_encoded)"
   ]
  },
  {
   "cell_type": "code",
   "execution_count": 259,
   "metadata": {},
   "outputs": [],
   "source": [
    "# drop unwanted columns \n",
    "data_encoded = data_encoded.drop('Recalling_Firm_State',axis=1)"
   ]
  },
  {
   "cell_type": "code",
   "execution_count": 260,
   "metadata": {},
   "outputs": [],
   "source": [
    "data_encoded = data_encoded.drop('Product_Type',axis=1)\n",
    "\n",
    "\n",
    "data_encoded = data_encoded.drop('Recalling_Firm',axis=1)\n",
    "data_encoded = data_encoded.drop('Product ID',axis=1)\n",
    "data_encoded = data_encoded.drop('FEI_Number',axis=1)\n",
    "data_encoded = data_encoded.drop('Classification_Date',axis=1)"
   ]
  },
  {
   "cell_type": "code",
   "execution_count": 261,
   "metadata": {},
   "outputs": [],
   "source": [
    "X = data_encoded.iloc[:,:23].values\n",
    "y = data_encoded.iloc[:,23:].values"
   ]
  },
  {
   "cell_type": "code",
   "execution_count": 262,
   "metadata": {},
   "outputs": [],
   "source": [
    "from sklearn.model_selection import train_test_split"
   ]
  },
  {
   "cell_type": "code",
   "execution_count": 263,
   "metadata": {},
   "outputs": [],
   "source": [
    "X_train, X_test, y_train, y_test = train_test_split(\n",
    "    X, y, test_size=0.25, random_state=42)"
   ]
  },
  {
   "cell_type": "code",
   "execution_count": 264,
   "metadata": {},
   "outputs": [],
   "source": [
    "from sklearn.preprocessing import MinMaxScaler"
   ]
  },
  {
   "cell_type": "code",
   "execution_count": 265,
   "metadata": {},
   "outputs": [],
   "source": [
    "scaler = MinMaxScaler()"
   ]
  },
  {
   "cell_type": "code",
   "execution_count": 266,
   "metadata": {},
   "outputs": [],
   "source": [
    "X_train = scaler.fit_transform(X_train)\n",
    "X_test = scaler.transform(X_test)"
   ]
  },
  {
   "cell_type": "code",
   "execution_count": 267,
   "metadata": {},
   "outputs": [],
   "source": [
    "from tensorflow.keras.models import Sequential\n",
    "from tensorflow.keras.layers import Dense, Activation, Dropout\n",
    "from tensorflow.keras.callbacks import EarlyStopping"
   ]
  },
  {
   "cell_type": "code",
   "execution_count": 268,
   "metadata": {},
   "outputs": [],
   "source": [
    "model = Sequential()\n",
    "model.add(Dense(24, input_dim=23, activation='relu',\n",
    "                kernel_initializer='random_normal'))\n",
    "model.add(Dense(12,activation='relu',kernel_initializer='random_normal'))\n",
    "model.add(Dense(6,activation='relu',kernel_initializer='random_normal'))\n",
    "model.add(Dense(3,activation='softmax'))\n",
    "model.compile(loss='categorical_crossentropy', \n",
    "              optimizer='adam',\n",
    "              metrics =['accuracy'])\n",
    "monitor = EarlyStopping(monitor='val_loss', min_delta=1e-3, patience=5, \n",
    "                        verbose=1, mode='auto', restore_best_weights=True)"
   ]
  },
  {
   "cell_type": "code",
   "execution_count": 269,
   "metadata": {},
   "outputs": [
    {
     "name": "stdout",
     "output_type": "stream",
     "text": [
      "Train on 15507 samples, validate on 5170 samples\n",
      "Epoch 1/1000\n",
      "15507/15507 - 2s - loss: 0.8881 - accuracy: 0.5253 - val_loss: 0.8110 - val_accuracy: 0.6174\n",
      "Epoch 2/1000\n",
      "15507/15507 - 1s - loss: 0.4008 - accuracy: 0.8887 - val_loss: 0.2152 - val_accuracy: 0.9329\n",
      "Epoch 3/1000\n",
      "15507/15507 - 1s - loss: 0.1403 - accuracy: 0.9459 - val_loss: 0.0526 - val_accuracy: 0.9892\n",
      "Epoch 4/1000\n",
      "15507/15507 - 1s - loss: 0.0290 - accuracy: 0.9939 - val_loss: 0.0137 - val_accuracy: 0.9977\n",
      "Epoch 5/1000\n",
      "15507/15507 - 1s - loss: 0.0102 - accuracy: 0.9983 - val_loss: 0.0058 - val_accuracy: 0.9994\n",
      "Epoch 6/1000\n",
      "15507/15507 - 1s - loss: 0.0048 - accuracy: 0.9994 - val_loss: 0.0032 - val_accuracy: 0.9996\n",
      "Epoch 7/1000\n",
      "15507/15507 - 1s - loss: 0.0027 - accuracy: 0.9997 - val_loss: 0.0019 - val_accuracy: 0.9996\n",
      "Epoch 8/1000\n",
      "15507/15507 - 1s - loss: 0.0018 - accuracy: 0.9997 - val_loss: 0.0014 - val_accuracy: 0.9998\n",
      "Epoch 9/1000\n",
      "15507/15507 - 1s - loss: 0.0016 - accuracy: 0.9997 - val_loss: 0.0010 - val_accuracy: 0.9996\n",
      "Epoch 10/1000\n",
      "15507/15507 - 1s - loss: 0.0012 - accuracy: 0.9999 - val_loss: 6.5393e-04 - val_accuracy: 0.9996\n",
      "Epoch 11/1000\n",
      "15507/15507 - 1s - loss: 9.3019e-04 - accuracy: 0.9999 - val_loss: 5.3761e-04 - val_accuracy: 0.9998\n",
      "Epoch 12/1000\n",
      "15507/15507 - 1s - loss: 8.3490e-04 - accuracy: 0.9999 - val_loss: 3.6882e-04 - val_accuracy: 1.0000\n",
      "Epoch 13/1000\n",
      "15507/15507 - 1s - loss: 9.2931e-04 - accuracy: 0.9999 - val_loss: 3.7248e-04 - val_accuracy: 1.0000\n",
      "Epoch 14/1000\n",
      "15507/15507 - 1s - loss: 8.1423e-04 - accuracy: 0.9999 - val_loss: 2.5458e-04 - val_accuracy: 1.0000\n",
      "Epoch 15/1000\n",
      "Restoring model weights from the end of the best epoch.\n",
      "15507/15507 - 1s - loss: 7.8505e-04 - accuracy: 0.9999 - val_loss: 3.6882e-04 - val_accuracy: 1.0000\n",
      "Epoch 00015: early stopping\n"
     ]
    },
    {
     "data": {
      "text/plain": [
       "<tensorflow.python.keras.callbacks.History at 0x1a590832d0>"
      ]
     },
     "execution_count": 269,
     "metadata": {},
     "output_type": "execute_result"
    }
   ],
   "source": [
    "model.fit(X_train,y_train,validation_data=(X_test,y_test),callbacks=[monitor],verbose=2,epochs=1000)"
   ]
  },
  {
   "cell_type": "code",
   "execution_count": 270,
   "metadata": {},
   "outputs": [
    {
     "data": {
      "text/html": [
       "<div>\n",
       "<style scoped>\n",
       "    .dataframe tbody tr th:only-of-type {\n",
       "        vertical-align: middle;\n",
       "    }\n",
       "\n",
       "    .dataframe tbody tr th {\n",
       "        vertical-align: top;\n",
       "    }\n",
       "\n",
       "    .dataframe thead th {\n",
       "        text-align: right;\n",
       "    }\n",
       "</style>\n",
       "<table border=\"1\" class=\"dataframe\">\n",
       "  <thead>\n",
       "    <tr style=\"text-align: right;\">\n",
       "      <th></th>\n",
       "      <th>loss</th>\n",
       "      <th>accuracy</th>\n",
       "      <th>val_loss</th>\n",
       "      <th>val_accuracy</th>\n",
       "    </tr>\n",
       "  </thead>\n",
       "  <tbody>\n",
       "    <tr>\n",
       "      <th>0</th>\n",
       "      <td>0.888104</td>\n",
       "      <td>0.525311</td>\n",
       "      <td>0.811019</td>\n",
       "      <td>0.617408</td>\n",
       "    </tr>\n",
       "    <tr>\n",
       "      <th>1</th>\n",
       "      <td>0.400807</td>\n",
       "      <td>0.888695</td>\n",
       "      <td>0.215167</td>\n",
       "      <td>0.932882</td>\n",
       "    </tr>\n",
       "    <tr>\n",
       "      <th>2</th>\n",
       "      <td>0.140277</td>\n",
       "      <td>0.945895</td>\n",
       "      <td>0.052590</td>\n",
       "      <td>0.989168</td>\n",
       "    </tr>\n",
       "    <tr>\n",
       "      <th>3</th>\n",
       "      <td>0.028960</td>\n",
       "      <td>0.993874</td>\n",
       "      <td>0.013717</td>\n",
       "      <td>0.997679</td>\n",
       "    </tr>\n",
       "    <tr>\n",
       "      <th>4</th>\n",
       "      <td>0.010222</td>\n",
       "      <td>0.998259</td>\n",
       "      <td>0.005759</td>\n",
       "      <td>0.999420</td>\n",
       "    </tr>\n",
       "    <tr>\n",
       "      <th>5</th>\n",
       "      <td>0.004830</td>\n",
       "      <td>0.999355</td>\n",
       "      <td>0.003180</td>\n",
       "      <td>0.999613</td>\n",
       "    </tr>\n",
       "    <tr>\n",
       "      <th>6</th>\n",
       "      <td>0.002727</td>\n",
       "      <td>0.999742</td>\n",
       "      <td>0.001863</td>\n",
       "      <td>0.999613</td>\n",
       "    </tr>\n",
       "    <tr>\n",
       "      <th>7</th>\n",
       "      <td>0.001829</td>\n",
       "      <td>0.999742</td>\n",
       "      <td>0.001418</td>\n",
       "      <td>0.999807</td>\n",
       "    </tr>\n",
       "    <tr>\n",
       "      <th>8</th>\n",
       "      <td>0.001641</td>\n",
       "      <td>0.999678</td>\n",
       "      <td>0.001045</td>\n",
       "      <td>0.999613</td>\n",
       "    </tr>\n",
       "    <tr>\n",
       "      <th>9</th>\n",
       "      <td>0.001196</td>\n",
       "      <td>0.999871</td>\n",
       "      <td>0.000654</td>\n",
       "      <td>0.999613</td>\n",
       "    </tr>\n",
       "    <tr>\n",
       "      <th>10</th>\n",
       "      <td>0.000930</td>\n",
       "      <td>0.999871</td>\n",
       "      <td>0.000538</td>\n",
       "      <td>0.999807</td>\n",
       "    </tr>\n",
       "    <tr>\n",
       "      <th>11</th>\n",
       "      <td>0.000835</td>\n",
       "      <td>0.999936</td>\n",
       "      <td>0.000369</td>\n",
       "      <td>1.000000</td>\n",
       "    </tr>\n",
       "    <tr>\n",
       "      <th>12</th>\n",
       "      <td>0.000929</td>\n",
       "      <td>0.999871</td>\n",
       "      <td>0.000372</td>\n",
       "      <td>1.000000</td>\n",
       "    </tr>\n",
       "    <tr>\n",
       "      <th>13</th>\n",
       "      <td>0.000814</td>\n",
       "      <td>0.999871</td>\n",
       "      <td>0.000255</td>\n",
       "      <td>1.000000</td>\n",
       "    </tr>\n",
       "    <tr>\n",
       "      <th>14</th>\n",
       "      <td>0.000785</td>\n",
       "      <td>0.999936</td>\n",
       "      <td>0.000369</td>\n",
       "      <td>1.000000</td>\n",
       "    </tr>\n",
       "  </tbody>\n",
       "</table>\n",
       "</div>"
      ],
      "text/plain": [
       "        loss  accuracy  val_loss  val_accuracy\n",
       "0   0.888104  0.525311  0.811019      0.617408\n",
       "1   0.400807  0.888695  0.215167      0.932882\n",
       "2   0.140277  0.945895  0.052590      0.989168\n",
       "3   0.028960  0.993874  0.013717      0.997679\n",
       "4   0.010222  0.998259  0.005759      0.999420\n",
       "5   0.004830  0.999355  0.003180      0.999613\n",
       "6   0.002727  0.999742  0.001863      0.999613\n",
       "7   0.001829  0.999742  0.001418      0.999807\n",
       "8   0.001641  0.999678  0.001045      0.999613\n",
       "9   0.001196  0.999871  0.000654      0.999613\n",
       "10  0.000930  0.999871  0.000538      0.999807\n",
       "11  0.000835  0.999936  0.000369      1.000000\n",
       "12  0.000929  0.999871  0.000372      1.000000\n",
       "13  0.000814  0.999871  0.000255      1.000000\n",
       "14  0.000785  0.999936  0.000369      1.000000"
      ]
     },
     "execution_count": 270,
     "metadata": {},
     "output_type": "execute_result"
    }
   ],
   "source": [
    "df_loss = pd.DataFrame(model.history.history)\n",
    "df_loss"
   ]
  },
  {
   "cell_type": "code",
   "execution_count": 271,
   "metadata": {},
   "outputs": [
    {
     "data": {
      "text/plain": [
       "<AxesSubplot:>"
      ]
     },
     "execution_count": 271,
     "metadata": {},
     "output_type": "execute_result"
    },
    {
     "data": {
      "image/png": "[encoded data removed]",
      "text/plain": [
       "<Figure size 432x288 with 1 Axes>"
      ]
     },
     "metadata": {
      "needs_background": "light"
     },
     "output_type": "display_data"
    }
   ],
   "source": [
    "df_loss.plot()"
   ]
  },
  {
   "cell_type": "code",
   "execution_count": 272,
   "metadata": {},
   "outputs": [],
   "source": [
    "pred = model.predict(X_test)\n",
    "pred = np.argmax(pred,axis=1)"
   ]
  },
  {
   "cell_type": "code",
   "execution_count": 273,
   "metadata": {},
   "outputs": [
    {
     "name": "stdout",
     "output_type": "stream",
     "text": [
      "Accuracy score: 0.9996131528046421\n"
     ]
    }
   ],
   "source": [
    "from sklearn import metrics\n",
    "\n",
    "y_compare = np.argmax(y_test,axis=1) \n",
    "score = metrics.accuracy_score(y_compare, pred)\n",
    "print(\"Accuracy score: {}\".format(score))"
   ]
  },
  {
   "cell_type": "code",
   "execution_count": 274,
   "metadata": {},
   "outputs": [],
   "source": [
    "def plot_confusion_matrix(cm, names, title='Confusion matrix', \n",
    "                            cmap=plt.cm.Blues):\n",
    "    plt.imshow(cm, interpolation='nearest', cmap=cmap)\n",
    "    plt.title(title)\n",
    "    plt.colorbar()\n",
    "    tick_marks = np.arange(len(names))\n",
    "    plt.xticks(tick_marks, names, rotation=45)\n",
    "    plt.yticks(tick_marks, names)\n",
    "    plt.tight_layout()\n",
    "    plt.ylabel('True label')\n",
    "    plt.xlabel('Predicted label')\n"
   ]
  },
  {
   "cell_type": "code",
   "execution_count": 275,
   "metadata": {},
   "outputs": [
    {
     "name": "stdout",
     "output_type": "stream",
     "text": [
      "Confusion matrix, without normalization\n",
      "[[2167    1    0]\n",
      " [   0 2714    1]\n",
      " [   0    0  287]]\n",
      "Normalized confusion matrix\n",
      "[[1.00e+00 4.61e-04 0.00e+00]\n",
      " [0.00e+00 1.00e+00 3.68e-04]\n",
      " [0.00e+00 0.00e+00 1.00e+00]]\n"
     ]
    },
    {
     "data": {
      "image/png": "[encoded data removed]",
      "text/plain": [
       "<Figure size 432x288 with 2 Axes>"
      ]
     },
     "metadata": {
      "needs_background": "light"
     },
     "output_type": "display_data"
    },
    {
     "data": {
      "image/png": "[encoded data removed]",
      "text/plain": [
       "<Figure size 432x288 with 2 Axes>"
      ]
     },
     "metadata": {
      "needs_background": "light"
     },
     "output_type": "display_data"
    }
   ],
   "source": [
    "from sklearn import svm, datasets\n",
    "from sklearn.model_selection import train_test_split\n",
    "from sklearn.metrics import confusion_matrix\n",
    "\n",
    "# Compute confusion matrix\n",
    "My_products = pd.DataFrame(data_encoded.iloc[:,23:])\n",
    "products = My_products.columns\n",
    "cm = confusion_matrix(y_compare, pred)\n",
    "np.set_printoptions(precision=2)\n",
    "print('Confusion matrix, without normalization')\n",
    "print(cm)\n",
    "plt.figure()\n",
    "plot_confusion_matrix(cm, products)\n",
    "\n",
    "# Normalize the confusion matrix by row (i.e by the number of samples\n",
    "# in each class)\n",
    "cm_normalized = cm.astype('float') / cm.sum(axis=1)[:, np.newaxis]\n",
    "print('Normalized confusion matrix')\n",
    "print(cm_normalized)\n",
    "plt.figure()\n",
    "plot_confusion_matrix(cm_normalized, products, \n",
    "        title='Normalized confusion matrix')\n",
    "\n",
    "plt.show()"
   ]
  },
  {
   "cell_type": "code",
   "execution_count": 276,
   "metadata": {},
   "outputs": [
    {
     "data": {
      "text/plain": [
       "array([1, 1, 1, 1, 0, 1, 1, 1, 0, 1, 1, 0, 1, 0, 0, 1, 0, 0, 0, 1, 1, 0,\n",
       "       2, 1, 0, 1, 0, 0, 0, 0])"
      ]
     },
     "execution_count": 276,
     "metadata": {},
     "output_type": "execute_result"
    }
   ],
   "source": [
    "pred[:30]"
   ]
  },
  {
   "cell_type": "code",
   "execution_count": 277,
   "metadata": {},
   "outputs": [
    {
     "data": {
      "text/plain": [
       "[0.0006539302394406534, 0.99961317]"
      ]
     },
     "execution_count": 277,
     "metadata": {},
     "output_type": "execute_result"
    }
   ],
   "source": [
    "model.evaluate(X_test,y_test,verbose=0)"
   ]
  },
  {
   "cell_type": "code",
   "execution_count": 278,
   "metadata": {},
   "outputs": [],
   "source": [
    "epochs = len(df_loss)"
   ]
  },
  {
   "cell_type": "code",
   "execution_count": 279,
   "metadata": {},
   "outputs": [],
   "source": [
    "scaled_X = scaler.fit_transform(X)"
   ]
  },
  {
   "cell_type": "code",
   "execution_count": 280,
   "metadata": {},
   "outputs": [],
   "source": [
    "model = Sequential()\n",
    "model.add(Dense(X.shape[1],input_dim=23, activation='relu',\n",
    "                kernel_initializer='random_normal'))\n",
    "model.add(Dense(12,activation='relu',kernel_initializer='random_normal'))\n",
    "model.add(Dense(6,activation='relu',kernel_initializer='random_normal'))\n",
    "model.add(Dense(3,activation='softmax'))\n",
    "model.compile(loss='categorical_crossentropy', \n",
    "              optimizer='adam',\n",
    "              metrics =['accuracy'])\n",
    "monitor = EarlyStopping(monitor='val_loss', min_delta=1e-3, patience=5, \n",
    "                        verbose=1, mode='auto', restore_best_weights=True)"
   ]
  },
  {
   "cell_type": "code",
   "execution_count": 281,
   "metadata": {},
   "outputs": [
    {
     "name": "stdout",
     "output_type": "stream",
     "text": [
      "Train on 20677 samples, validate on 5170 samples\n",
      "Epoch 1/500\n",
      "20677/20677 - 3s - loss: 0.8791 - accuracy: 0.5195 - val_loss: 0.8392 - val_accuracy: 0.5251\n",
      "Epoch 2/500\n",
      "20677/20677 - 1s - loss: 0.6277 - accuracy: 0.7016 - val_loss: 0.3582 - val_accuracy: 0.9331\n",
      "Epoch 3/500\n",
      "20677/20677 - 1s - loss: 0.2667 - accuracy: 0.9323 - val_loss: 0.2012 - val_accuracy: 0.9377\n",
      "Epoch 4/500\n",
      "20677/20677 - 1s - loss: 0.1676 - accuracy: 0.9371 - val_loss: 0.1353 - val_accuracy: 0.9408\n",
      "Epoch 5/500\n",
      "20677/20677 - 1s - loss: 0.1161 - accuracy: 0.9403 - val_loss: 0.0959 - val_accuracy: 0.9443\n",
      "Epoch 6/500\n",
      "20677/20677 - 1s - loss: 0.0826 - accuracy: 0.9548 - val_loss: 0.0688 - val_accuracy: 0.9996\n",
      "Epoch 7/500\n",
      "20677/20677 - 1s - loss: 0.0600 - accuracy: 0.9995 - val_loss: 0.0501 - val_accuracy: 0.9998\n",
      "Epoch 8/500\n",
      "20677/20677 - 1s - loss: 0.0440 - accuracy: 0.9997 - val_loss: 0.0371 - val_accuracy: 0.9998\n",
      "Epoch 9/500\n",
      "20677/20677 - 1s - loss: 0.0327 - accuracy: 0.9997 - val_loss: 0.0274 - val_accuracy: 0.9998\n",
      "Epoch 10/500\n",
      "20677/20677 - 1s - loss: 0.0246 - accuracy: 0.9996 - val_loss: 0.0207 - val_accuracy: 0.9998\n",
      "Epoch 11/500\n",
      "20677/20677 - 1s - loss: 0.0186 - accuracy: 0.9997 - val_loss: 0.0157 - val_accuracy: 0.9998\n",
      "Epoch 12/500\n",
      "20677/20677 - 1s - loss: 0.0142 - accuracy: 0.9998 - val_loss: 0.0120 - val_accuracy: 0.9998\n",
      "Epoch 13/500\n",
      "20677/20677 - 1s - loss: 0.0109 - accuracy: 0.9998 - val_loss: 0.0094 - val_accuracy: 0.9998\n",
      "Epoch 14/500\n",
      "20677/20677 - 1s - loss: 0.0085 - accuracy: 0.9998 - val_loss: 0.0075 - val_accuracy: 0.9998\n",
      "Epoch 15/500\n",
      "20677/20677 - 1s - loss: 0.0068 - accuracy: 0.9998 - val_loss: 0.0077 - val_accuracy: 0.9998\n",
      "Epoch 16/500\n",
      "20677/20677 - 1s - loss: 0.0055 - accuracy: 0.9998 - val_loss: 0.0048 - val_accuracy: 0.9998\n",
      "Epoch 17/500\n",
      "20677/20677 - 1s - loss: 0.0044 - accuracy: 0.9998 - val_loss: 0.0039 - val_accuracy: 0.9998\n",
      "Epoch 18/500\n",
      "20677/20677 - 1s - loss: 0.0037 - accuracy: 0.9998 - val_loss: 0.0033 - val_accuracy: 0.9998\n",
      "Epoch 19/500\n",
      "20677/20677 - 1s - loss: 0.0031 - accuracy: 0.9998 - val_loss: 0.0029 - val_accuracy: 0.9998\n",
      "Epoch 20/500\n",
      "20677/20677 - 1s - loss: 0.0027 - accuracy: 0.9998 - val_loss: 0.0025 - val_accuracy: 0.9998\n",
      "Epoch 21/500\n",
      "20677/20677 - 1s - loss: 0.0024 - accuracy: 0.9998 - val_loss: 0.0022 - val_accuracy: 0.9998\n",
      "Epoch 22/500\n",
      "20677/20677 - 1s - loss: 0.0021 - accuracy: 0.9998 - val_loss: 0.0020 - val_accuracy: 0.9998\n",
      "Epoch 23/500\n",
      "20677/20677 - 1s - loss: 0.0019 - accuracy: 0.9998 - val_loss: 0.0018 - val_accuracy: 0.9998\n",
      "Epoch 24/500\n",
      "20677/20677 - 1s - loss: 0.0019 - accuracy: 0.9998 - val_loss: 0.0017 - val_accuracy: 0.9998\n",
      "Epoch 25/500\n",
      "20677/20677 - 1s - loss: 0.0019 - accuracy: 0.9998 - val_loss: 7.7497e-04 - val_accuracy: 1.0000\n",
      "Epoch 26/500\n",
      "20677/20677 - 1s - loss: 0.0013 - accuracy: 0.9999 - val_loss: 7.1970e-04 - val_accuracy: 1.0000\n",
      "Epoch 27/500\n",
      "20677/20677 - 1s - loss: 0.0013 - accuracy: 0.9999 - val_loss: 5.5440e-04 - val_accuracy: 1.0000\n",
      "Epoch 28/500\n",
      "20677/20677 - 1s - loss: 0.0011 - accuracy: 0.9999 - val_loss: 4.9324e-04 - val_accuracy: 1.0000\n",
      "Epoch 29/500\n",
      "20677/20677 - 1s - loss: 7.6046e-04 - accuracy: 1.0000 - val_loss: 4.1185e-04 - val_accuracy: 1.0000\n",
      "Epoch 30/500\n",
      "Restoring model weights from the end of the best epoch.\n",
      "20677/20677 - 1s - loss: 6.6316e-04 - accuracy: 1.0000 - val_loss: 3.5889e-04 - val_accuracy: 1.0000\n",
      "Epoch 00030: early stopping\n"
     ]
    },
    {
     "data": {
      "text/plain": [
       "<tensorflow.python.keras.callbacks.History at 0x1a58515e50>"
      ]
     },
     "execution_count": 281,
     "metadata": {},
     "output_type": "execute_result"
    }
   ],
   "source": [
    "model.fit(scaled_X,y,validation_data=(X_test,y_test),callbacks=[monitor],verbose=2,epochs=500)"
   ]
  },
  {
   "cell_type": "code",
   "execution_count": 282,
   "metadata": {},
   "outputs": [],
   "source": [
    "from tensorflow.keras.models import load_model"
   ]
  },
  {
   "cell_type": "code",
   "execution_count": 283,
   "metadata": {},
   "outputs": [],
   "source": [
    "model.save('Food_racall_draft.h5')"
   ]
  },
  {
   "cell_type": "code",
   "execution_count": 284,
   "metadata": {},
   "outputs": [],
   "source": [
    "predictions = model.predict(X)"
   ]
  },
  {
   "cell_type": "code",
   "execution_count": 285,
   "metadata": {},
   "outputs": [],
   "source": [
    "predictions = np.argmax(predictions,axis=1)"
   ]
  },
  {
   "cell_type": "code",
   "execution_count": 286,
   "metadata": {},
   "outputs": [],
   "source": [
    "import joblib"
   ]
  },
  {
   "cell_type": "code",
   "execution_count": 287,
   "metadata": {},
   "outputs": [
    {
     "data": {
      "text/plain": [
       "['food_recall_scaler.pki']"
      ]
     },
     "execution_count": 287,
     "metadata": {},
     "output_type": "execute_result"
    }
   ],
   "source": [
    "joblib.dump(scaler, 'food_recall_scaler.pki')"
   ]
  },
  {
   "cell_type": "code",
   "execution_count": 288,
   "metadata": {},
   "outputs": [],
   "source": [
    "Class_I_and_II_products = []"
   ]
  },
  {
   "cell_type": "code",
   "execution_count": 289,
   "metadata": {},
   "outputs": [],
   "source": [
    "# In this prediction model the predicted items are at the same index as they were in the original dataframe\n",
    "# for example if product id 184301 was at position 44 in the original dataframe i.e df then it will be at the same\n",
    "# index position 44 in the predictions\n",
    "\n",
    "for index in range(df.shape[0]):\n",
    "    if predictions[index] ==0 | predictions[index] ==1:\n",
    "        Class_I_and_II_products.append(df.loc[index,['Product ID']][0]) # get the preduct id if it's class I or II"
   ]
  },
  {
   "cell_type": "code",
   "execution_count": 290,
   "metadata": {},
   "outputs": [
    {
     "data": {
      "text/plain": [
       "[184301,\n",
       " 184193,\n",
       " 184262,\n",
       " 184323,\n",
       " 183709,\n",
       " 184228,\n",
       " 184272,\n",
       " 184037,\n",
       " 184181,\n",
       " 184182,\n",
       " 184183,\n",
       " 184184,\n",
       " 184185,\n",
       " 184186,\n",
       " 184187,\n",
       " 184188,\n",
       " 184189,\n",
       " 184191,\n",
       " 184192,\n",
       " 183953]"
      ]
     },
     "execution_count": 290,
     "metadata": {},
     "output_type": "execute_result"
    }
   ],
   "source": [
    "# A list of product classified as class I and II with potentital to be withdrawn. \n",
    "Class_I_and_II_products[:20]"
   ]
  },
  {
   "cell_type": "code",
   "execution_count": 291,
   "metadata": {},
   "outputs": [],
   "source": [
    "violating_Countries = [df.loc[index,['Recalling_Firm_Country']][0] for index in range(df.shape[0]) if predictions[index] ==0 |predictions[index] ==1]"
   ]
  },
  {
   "cell_type": "code",
   "execution_count": 292,
   "metadata": {},
   "outputs": [],
   "source": [
    "def High_Violating_countries(Country_list):\n",
    "    \n",
    "    country_dictionary = {} \n",
    "    for country in Country_list:\n",
    "        if country not in country_dictionary:\n",
    "            country_dictionary[country] = violating_Countries.count(country)\n",
    "    sorted(country_dictionary.items(), key=lambda x: x[1], reverse=True)\n",
    "    return country_dictionary\n",
    "    "
   ]
  },
  {
   "cell_type": "code",
   "execution_count": 293,
   "metadata": {},
   "outputs": [],
   "source": [
    "high_riask_countries = High_Violating_countries(violating_Countries)"
   ]
  },
  {
   "cell_type": "code",
   "execution_count": 294,
   "metadata": {},
   "outputs": [
    {
     "name": "stdout",
     "output_type": "stream",
     "text": [
      "United States has 13782 food products in Violation \n",
      "    Canada has    41 food products in Violation \n",
      "    France has    13 food products in Violation \n",
      "    Mexico has     6 food products in Violation \n"
     ]
    }
   ],
   "source": [
    "for key, value in high_riask_countries.items():\n",
    "    if value >= 5:\n",
    "        print(\"{:>10} has {:>5} food products in Violation \".format(key, value))"
   ]
  }
 ],
 "metadata": {
  "kernelspec": {
   "display_name": "Python 3.7 (tensorflow)",
   "language": "python",
   "name": "tensorflow"
  },
  "language_info": {
   "codemirror_mode": {
    "name": "ipython",
    "version": 3
   },
   "file_extension": ".py",
   "mimetype": "text/x-python",
   "name": "python",
   "nbconvert_exporter": "python",
   "pygments_lexer": "ipython3",
   "version": "3.7.9"
  }
 },
 "nbformat": 4,
 "nbformat_minor": 4
}
